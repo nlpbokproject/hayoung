{
  "nbformat": 4,
  "nbformat_minor": 0,
  "metadata": {
    "colab": {
      "name": "word2vec파일읽기.ipynb의 사본",
      "version": "0.3.2",
      "provenance": [],
      "collapsed_sections": [],
      "include_colab_link": true
    },
    "kernelspec": {
      "name": "python3",
      "display_name": "Python 3"
    }
  },
  "cells": [
    {
      "cell_type": "markdown",
      "metadata": {
        "id": "view-in-github",
        "colab_type": "text"
      },
      "source": [
        "<a href=\"https://colab.research.google.com/github/nlpbokproject/hayoung/blob/master/word2vec.ipynb\" target=\"_parent\"><img src=\"https://colab.research.google.com/assets/colab-badge.svg\" alt=\"Open In Colab\"/></a>"
      ]
    },
    {
      "cell_type": "code",
      "metadata": {
        "id": "lve7fEJtaqwe",
        "colab_type": "code",
        "colab": {}
      },
      "source": [
        ""
      ],
      "execution_count": 0,
      "outputs": []
    },
    {
      "cell_type": "code",
      "metadata": {
        "id": "Qj8NIvyFMRNr",
        "colab_type": "code",
        "colab": {
          "base_uri": "https://localhost:8080/",
          "height": 52
        },
        "outputId": "2d29d516-a165-4791-d427-a38890069a2d"
      },
      "source": [
        "# 구글 드라이브에서 csv 파일을 읽어오기 위해 gauth 인증을 합니다.\n",
        "!pip install -U -q PyDrive\n",
        "from pydrive.auth import GoogleAuth\n",
        "from pydrive.drive import GoogleDrive\n",
        "from google.colab import auth\n",
        "from oauth2client.client import GoogleCredentials\n",
        "# Authenticate and create the PyDrive client.\n",
        "auth.authenticate_user()\n",
        "gauth = GoogleAuth()\n",
        "gauth.credentials = GoogleCredentials.get_application_default()\n",
        "drive = GoogleDrive(gauth)"
      ],
      "execution_count": 1,
      "outputs": [
        {
          "output_type": "stream",
          "text": [
            "\u001b[?25l\r\u001b[K     |▎                               | 10kB 19.4MB/s eta 0:00:01\r\u001b[K     |▋                               | 20kB 3.4MB/s eta 0:00:01\r\u001b[K     |█                               | 30kB 4.9MB/s eta 0:00:01\r\u001b[K     |█▎                              | 40kB 2.6MB/s eta 0:00:01\r\u001b[K     |█▋                              | 51kB 3.2MB/s eta 0:00:01\r\u001b[K     |██                              | 61kB 3.8MB/s eta 0:00:01\r\u001b[K     |██▎                             | 71kB 4.4MB/s eta 0:00:01\r\u001b[K     |██▋                             | 81kB 5.0MB/s eta 0:00:01\r\u001b[K     |███                             | 92kB 5.6MB/s eta 0:00:01\r\u001b[K     |███▎                            | 102kB 4.5MB/s eta 0:00:01\r\u001b[K     |███▋                            | 112kB 4.5MB/s eta 0:00:01\r\u001b[K     |████                            | 122kB 4.5MB/s eta 0:00:01\r\u001b[K     |████▎                           | 133kB 4.5MB/s eta 0:00:01\r\u001b[K     |████▋                           | 143kB 4.5MB/s eta 0:00:01\r\u001b[K     |█████                           | 153kB 4.5MB/s eta 0:00:01\r\u001b[K     |█████▎                          | 163kB 4.5MB/s eta 0:00:01\r\u001b[K     |█████▋                          | 174kB 4.5MB/s eta 0:00:01\r\u001b[K     |██████                          | 184kB 4.5MB/s eta 0:00:01\r\u001b[K     |██████▎                         | 194kB 4.5MB/s eta 0:00:01\r\u001b[K     |██████▋                         | 204kB 4.5MB/s eta 0:00:01\r\u001b[K     |███████                         | 215kB 4.5MB/s eta 0:00:01\r\u001b[K     |███████▎                        | 225kB 4.5MB/s eta 0:00:01\r\u001b[K     |███████▋                        | 235kB 4.5MB/s eta 0:00:01\r\u001b[K     |████████                        | 245kB 4.5MB/s eta 0:00:01\r\u001b[K     |████████▎                       | 256kB 4.5MB/s eta 0:00:01\r\u001b[K     |████████▋                       | 266kB 4.5MB/s eta 0:00:01\r\u001b[K     |█████████                       | 276kB 4.5MB/s eta 0:00:01\r\u001b[K     |█████████▎                      | 286kB 4.5MB/s eta 0:00:01\r\u001b[K     |█████████▋                      | 296kB 4.5MB/s eta 0:00:01\r\u001b[K     |██████████                      | 307kB 4.5MB/s eta 0:00:01\r\u001b[K     |██████████▎                     | 317kB 4.5MB/s eta 0:00:01\r\u001b[K     |██████████▋                     | 327kB 4.5MB/s eta 0:00:01\r\u001b[K     |███████████                     | 337kB 4.5MB/s eta 0:00:01\r\u001b[K     |███████████▎                    | 348kB 4.5MB/s eta 0:00:01\r\u001b[K     |███████████▋                    | 358kB 4.5MB/s eta 0:00:01\r\u001b[K     |████████████                    | 368kB 4.5MB/s eta 0:00:01\r\u001b[K     |████████████▎                   | 378kB 4.5MB/s eta 0:00:01\r\u001b[K     |████████████▋                   | 389kB 4.5MB/s eta 0:00:01\r\u001b[K     |█████████████                   | 399kB 4.5MB/s eta 0:00:01\r\u001b[K     |█████████████▎                  | 409kB 4.5MB/s eta 0:00:01\r\u001b[K     |█████████████▋                  | 419kB 4.5MB/s eta 0:00:01\r\u001b[K     |██████████████                  | 430kB 4.5MB/s eta 0:00:01\r\u001b[K     |██████████████▎                 | 440kB 4.5MB/s eta 0:00:01\r\u001b[K     |██████████████▋                 | 450kB 4.5MB/s eta 0:00:01\r\u001b[K     |███████████████                 | 460kB 4.5MB/s eta 0:00:01\r\u001b[K     |███████████████▎                | 471kB 4.5MB/s eta 0:00:01\r\u001b[K     |███████████████▋                | 481kB 4.5MB/s eta 0:00:01\r\u001b[K     |████████████████                | 491kB 4.5MB/s eta 0:00:01\r\u001b[K     |████████████████▎               | 501kB 4.5MB/s eta 0:00:01\r\u001b[K     |████████████████▋               | 512kB 4.5MB/s eta 0:00:01\r\u001b[K     |█████████████████               | 522kB 4.5MB/s eta 0:00:01\r\u001b[K     |█████████████████▎              | 532kB 4.5MB/s eta 0:00:01\r\u001b[K     |█████████████████▋              | 542kB 4.5MB/s eta 0:00:01\r\u001b[K     |██████████████████              | 552kB 4.5MB/s eta 0:00:01\r\u001b[K     |██████████████████▎             | 563kB 4.5MB/s eta 0:00:01\r\u001b[K     |██████████████████▋             | 573kB 4.5MB/s eta 0:00:01\r\u001b[K     |███████████████████             | 583kB 4.5MB/s eta 0:00:01\r\u001b[K     |███████████████████▎            | 593kB 4.5MB/s eta 0:00:01\r\u001b[K     |███████████████████▋            | 604kB 4.5MB/s eta 0:00:01\r\u001b[K     |████████████████████            | 614kB 4.5MB/s eta 0:00:01\r\u001b[K     |████████████████████▎           | 624kB 4.5MB/s eta 0:00:01\r\u001b[K     |████████████████████▋           | 634kB 4.5MB/s eta 0:00:01\r\u001b[K     |█████████████████████           | 645kB 4.5MB/s eta 0:00:01\r\u001b[K     |█████████████████████▎          | 655kB 4.5MB/s eta 0:00:01\r\u001b[K     |█████████████████████▋          | 665kB 4.5MB/s eta 0:00:01\r\u001b[K     |██████████████████████          | 675kB 4.5MB/s eta 0:00:01\r\u001b[K     |██████████████████████▎         | 686kB 4.5MB/s eta 0:00:01\r\u001b[K     |██████████████████████▋         | 696kB 4.5MB/s eta 0:00:01\r\u001b[K     |███████████████████████         | 706kB 4.5MB/s eta 0:00:01\r\u001b[K     |███████████████████████▎        | 716kB 4.5MB/s eta 0:00:01\r\u001b[K     |███████████████████████▋        | 727kB 4.5MB/s eta 0:00:01\r\u001b[K     |████████████████████████        | 737kB 4.5MB/s eta 0:00:01\r\u001b[K     |████████████████████████▎       | 747kB 4.5MB/s eta 0:00:01\r\u001b[K     |████████████████████████▋       | 757kB 4.5MB/s eta 0:00:01\r\u001b[K     |████████████████████████▉       | 768kB 4.5MB/s eta 0:00:01\r\u001b[K     |█████████████████████████▏      | 778kB 4.5MB/s eta 0:00:01\r\u001b[K     |█████████████████████████▌      | 788kB 4.5MB/s eta 0:00:01\r\u001b[K     |█████████████████████████▉      | 798kB 4.5MB/s eta 0:00:01\r\u001b[K     |██████████████████████████▏     | 808kB 4.5MB/s eta 0:00:01\r\u001b[K     |██████████████████████████▌     | 819kB 4.5MB/s eta 0:00:01\r\u001b[K     |██████████████████████████▉     | 829kB 4.5MB/s eta 0:00:01\r\u001b[K     |███████████████████████████▏    | 839kB 4.5MB/s eta 0:00:01\r\u001b[K     |███████████████████████████▌    | 849kB 4.5MB/s eta 0:00:01\r\u001b[K     |███████████████████████████▉    | 860kB 4.5MB/s eta 0:00:01\r\u001b[K     |████████████████████████████▏   | 870kB 4.5MB/s eta 0:00:01\r\u001b[K     |████████████████████████████▌   | 880kB 4.5MB/s eta 0:00:01\r\u001b[K     |████████████████████████████▉   | 890kB 4.5MB/s eta 0:00:01\r\u001b[K     |█████████████████████████████▏  | 901kB 4.5MB/s eta 0:00:01\r\u001b[K     |█████████████████████████████▌  | 911kB 4.5MB/s eta 0:00:01\r\u001b[K     |█████████████████████████████▉  | 921kB 4.5MB/s eta 0:00:01\r\u001b[K     |██████████████████████████████▏ | 931kB 4.5MB/s eta 0:00:01\r\u001b[K     |██████████████████████████████▌ | 942kB 4.5MB/s eta 0:00:01\r\u001b[K     |██████████████████████████████▉ | 952kB 4.5MB/s eta 0:00:01\r\u001b[K     |███████████████████████████████▏| 962kB 4.5MB/s eta 0:00:01\r\u001b[K     |███████████████████████████████▌| 972kB 4.5MB/s eta 0:00:01\r\u001b[K     |███████████████████████████████▉| 983kB 4.5MB/s eta 0:00:01\r\u001b[K     |████████████████████████████████| 993kB 4.5MB/s \n",
            "\u001b[?25h  Building wheel for PyDrive (setup.py) ... \u001b[?25l\u001b[?25hdone\n"
          ],
          "name": "stdout"
        }
      ]
    },
    {
      "cell_type": "code",
      "metadata": {
        "id": "Iqwd7sTVO0I9",
        "colab_type": "code",
        "outputId": "a662e458-8ae2-4701-f01b-f7d835dfc3b6",
        "colab": {
          "base_uri": "https://localhost:8080/",
          "height": 52
        }
      },
      "source": [
        "url_it ='https://drive.google.com/open?id=10EwI9yEZIIYDu2eDUiNIb1l5v8CfXb0_'\n",
        "id_it = url_it.split('=')[1]\n",
        "print(id_it)\n",
        "\n",
        "url_culture ='https://drive.google.com/open?id=1dIqTcT4RP5LrY0M27PrMruNygBhlO_t9'\n",
        "id_culture = url_culture.split('=')[1]\n",
        "print(id_culture)"
      ],
      "execution_count": 2,
      "outputs": [
        {
          "output_type": "stream",
          "text": [
            "10EwI9yEZIIYDu2eDUiNIb1l5v8CfXb0_\n",
            "1dIqTcT4RP5LrY0M27PrMruNygBhlO_t9\n"
          ],
          "name": "stdout"
        }
      ]
    },
    {
      "cell_type": "code",
      "metadata": {
        "id": "dfO2JFdyPZuN",
        "colab_type": "code",
        "outputId": "32da1358-eb38-4d94-c4b6-8e1dbb68460f",
        "colab": {
          "base_uri": "https://localhost:8080/",
          "height": 35
        }
      },
      "source": [
        "%ls"
      ],
      "execution_count": 3,
      "outputs": [
        {
          "output_type": "stream",
          "text": [
            "adc.json  \u001b[0m\u001b[01;34msample_data\u001b[0m/\n"
          ],
          "name": "stdout"
        }
      ]
    },
    {
      "cell_type": "code",
      "metadata": {
        "id": "DSHfjbKaPGZk",
        "colab_type": "code",
        "colab": {}
      },
      "source": [
        "# it관련 기사를 판다스를 통해 읽어온다.\n",
        "downloaded = drive.CreateFile({'id':id_it}) \n",
        "downloaded.GetContentFile('2_word_embedding_it.csv')  \n",
        "\n",
        "# 문화관련 기사를 판다스를 통해 읽어온다.\n",
        "downloaded = drive.CreateFile({'id':id_culture}) \n",
        "downloaded.GetContentFile('2_word_embedding_culture.csv')  "
      ],
      "execution_count": 0,
      "outputs": []
    },
    {
      "cell_type": "code",
      "metadata": {
        "id": "EnR-gpSTPkYy",
        "colab_type": "code",
        "colab": {
          "base_uri": "https://localhost:8080/",
          "height": 35
        },
        "outputId": "d2862987-2aa0-4a34-b6e7-565a0739a414"
      },
      "source": [
        "%ls"
      ],
      "execution_count": 5,
      "outputs": [
        {
          "output_type": "stream",
          "text": [
            "2_word_embedding_culture.csv  2_word_embedding_it.csv  adc.json  \u001b[0m\u001b[01;34msample_data\u001b[0m/\n"
          ],
          "name": "stdout"
        }
      ]
    },
    {
      "cell_type": "code",
      "metadata": {
        "id": "wVj6AxV3PqAc",
        "colab_type": "code",
        "colab": {}
      },
      "source": [
        "import pandas as pd\n",
        "it_df = pd.read_csv('2_word_embedding_it.csv').dropna() # 디폴트로 NaN이 1개라도 포함되면 해당 행이 삭제\n",
        "culture_df = pd.read_csv('2_word_embedding_culture.csv').dropna()"
      ],
      "execution_count": 0,
      "outputs": []
    },
    {
      "cell_type": "code",
      "metadata": {
        "id": "OyO2k2Y6bIxv",
        "colab_type": "code",
        "colab": {}
      },
      "source": [
        "it_token_ls = list(it_df.loc[:,'1'])\n",
        "culture_token_ls = list(culture_df.loc[:,'1'])\n",
        "total_token_ls = it_token_ls + culture_token_ls\n"
      ],
      "execution_count": 0,
      "outputs": []
    },
    {
      "cell_type": "code",
      "metadata": {
        "id": "y0D7ukErc216",
        "colab_type": "code",
        "colab": {
          "base_uri": "https://localhost:8080/",
          "height": 55
        },
        "outputId": "92a5337e-f554-4b7e-e43e-7529d837940b"
      },
      "source": [
        "total_token_ls[0]"
      ],
      "execution_count": 9,
      "outputs": [
        {
          "output_type": "execute_result",
          "data": {
            "text/plain": [
              "'배,정회,신임,과학기술,일자리,진흥,원장,아시아,경제,이민,우,배,정회,전,국립,중앙,과학,관,전시,연구,단장,과학기술,일자리,진흥,제,원장,취임,과학기술,정보,통신,같은,인사,발표,임기,날,동안,배,신임,원장,행정,고등고시,공직,입문,교육,과학기술,부,융합,기술,과장,중앙대,경영,경제,초빙교수,과기,정통부,연구,성과,활용,정책,과장,연구,성과,혁신,기획,과장,과학기술,정책,수립,정부,연구개발,연구,기술,이전,사업,두루,경험,보유,평가,배,신임,원장,날,환담,회,새로운,임무,조직,신속히,성하고,직원,역량,강화하겠다,며,실험실,유망,기술,전,문,기업,연결하며,기술,이전,효과,지원,신,기술,창업,통한,미래,일자리,많이,창,고,이민,우,네이버,홈,아시아,경제,뉴스,확인,재미,신기,과학,꿀,잼,인,기,만화,경제,눈,세계,창,아시아,경제,전,재'"
            ]
          },
          "metadata": {
            "tags": []
          },
          "execution_count": 9
        }
      ]
    },
    {
      "cell_type": "code",
      "metadata": {
        "id": "9RhBFpCudBNC",
        "colab_type": "code",
        "colab": {}
      },
      "source": [
        "total_token_ls = [tokens.split(',') for tokens in total_token_ls]"
      ],
      "execution_count": 0,
      "outputs": []
    },
    {
      "cell_type": "code",
      "metadata": {
        "id": "raMo0N5XdS-7",
        "colab_type": "code",
        "colab": {
          "base_uri": "https://localhost:8080/",
          "height": 35
        },
        "outputId": "464d77b8-300f-4cda-f59a-6518c4227293"
      },
      "source": [
        "total_token_ls[0][:10]"
      ],
      "execution_count": 11,
      "outputs": [
        {
          "output_type": "execute_result",
          "data": {
            "text/plain": [
              "['배', '정회', '신임', '과학기술', '일자리', '진흥', '원장', '아시아', '경제', '이민']"
            ]
          },
          "metadata": {
            "tags": []
          },
          "execution_count": 11
        }
      ]
    },
    {
      "cell_type": "code",
      "metadata": {
        "id": "Kd3ZxgEvdWoy",
        "colab_type": "code",
        "colab": {
          "base_uri": "https://localhost:8080/",
          "height": 409
        },
        "outputId": "447fe4ed-f370-4e48-ae8b-cf20915dd6dc"
      },
      "source": [
        "!pip install paramiko\n",
        "from gensim.models import Word2Vec"
      ],
      "execution_count": 12,
      "outputs": [
        {
          "output_type": "stream",
          "text": [
            "Collecting paramiko\n",
            "\u001b[?25l  Downloading https://files.pythonhosted.org/packages/cf/ae/94e70d49044ccc234bfdba20114fa947d7ba6eb68a2e452d89b920e62227/paramiko-2.4.2-py2.py3-none-any.whl (193kB)\n",
            "\u001b[K     |████████████████████████████████| 194kB 4.8MB/s \n",
            "\u001b[?25hCollecting pynacl>=1.0.1 (from paramiko)\n",
            "\u001b[?25l  Downloading https://files.pythonhosted.org/packages/27/15/2cd0a203f318c2240b42cd9dd13c931ddd61067809fee3479f44f086103e/PyNaCl-1.3.0-cp34-abi3-manylinux1_x86_64.whl (759kB)\n",
            "\u001b[K     |████████████████████████████████| 768kB 45.7MB/s \n",
            "\u001b[?25hRequirement already satisfied: pyasn1>=0.1.7 in /usr/local/lib/python3.6/dist-packages (from paramiko) (0.4.5)\n",
            "Collecting cryptography>=1.5 (from paramiko)\n",
            "\u001b[?25l  Downloading https://files.pythonhosted.org/packages/5b/12/b0409a94dad366d98a8eee2a77678c7a73aafd8c0e4b835abea634ea3896/cryptography-2.6.1-cp34-abi3-manylinux1_x86_64.whl (2.3MB)\n",
            "\u001b[K     |████████████████████████████████| 2.3MB 42.8MB/s \n",
            "\u001b[?25hCollecting bcrypt>=3.1.3 (from paramiko)\n",
            "\u001b[?25l  Downloading https://files.pythonhosted.org/packages/d0/79/79a4d167a31cc206117d9b396926615fa9c1fdbd52017bcced80937ac501/bcrypt-3.1.6-cp34-abi3-manylinux1_x86_64.whl (55kB)\n",
            "\u001b[K     |████████████████████████████████| 61kB 26.2MB/s \n",
            "\u001b[?25hRequirement already satisfied: cffi>=1.4.1 in /usr/local/lib/python3.6/dist-packages (from pynacl>=1.0.1->paramiko) (1.12.3)\n",
            "Requirement already satisfied: six in /usr/local/lib/python3.6/dist-packages (from pynacl>=1.0.1->paramiko) (1.12.0)\n",
            "Collecting asn1crypto>=0.21.0 (from cryptography>=1.5->paramiko)\n",
            "\u001b[?25l  Downloading https://files.pythonhosted.org/packages/ea/cd/35485615f45f30a510576f1a56d1e0a7ad7bd8ab5ed7cdc600ef7cd06222/asn1crypto-0.24.0-py2.py3-none-any.whl (101kB)\n",
            "\u001b[K     |████████████████████████████████| 102kB 35.7MB/s \n",
            "\u001b[?25hRequirement already satisfied: pycparser in /usr/local/lib/python3.6/dist-packages (from cffi>=1.4.1->pynacl>=1.0.1->paramiko) (2.19)\n",
            "Installing collected packages: pynacl, asn1crypto, cryptography, bcrypt, paramiko\n",
            "Successfully installed asn1crypto-0.24.0 bcrypt-3.1.6 cryptography-2.6.1 paramiko-2.4.2 pynacl-1.3.0\n"
          ],
          "name": "stdout"
        }
      ]
    },
    {
      "cell_type": "code",
      "metadata": {
        "id": "ZIs2qEcbddAt",
        "colab_type": "code",
        "colab": {}
      },
      "source": [
        "word2vec = Word2Vec(\n",
        "  sentences =total_token_ls,\n",
        "  size=30, # 30차원 \n",
        "  alpha=0.025,\n",
        "  min_count=2,\n",
        "  window=8, 문맥이 크기 (window size)\n",
        "  sample=0.001,\n",
        "  sg=1, # skip-gram\n",
        "  iter=10\n",
        "  )"
      ],
      "execution_count": 0,
      "outputs": []
    },
    {
      "cell_type": "code",
      "metadata": {
        "id": "4nwuPU5b0g9j",
        "colab_type": "code",
        "colab": {
          "base_uri": "https://localhost:8080/",
          "height": 141
        },
        "outputId": "783530ce-0ceb-4767-8b42-2dd9f39ed692"
      },
      "source": [
        "word2vec.wv.__getitem__('문화') # 문화라는 토큰이 30차원에 어디에 배치?"
      ],
      "execution_count": 15,
      "outputs": [
        {
          "output_type": "execute_result",
          "data": {
            "text/plain": [
              "array([ 0.8852387 , -0.14848983, -0.08539265, -1.4245017 , -0.27048516,\n",
              "        0.29457772, -0.21912444,  0.66456664, -0.16263033,  1.3653635 ,\n",
              "       -0.38290223,  0.9147058 , -0.24616371,  0.4697263 ,  0.02952156,\n",
              "        0.2317769 ,  0.25364456, -0.86493087,  0.10455535, -0.99405843,\n",
              "        0.4019375 ,  0.2851148 , -0.30510566,  0.26541948,  0.7242415 ,\n",
              "        0.54233325, -0.40393028,  0.10258034,  0.47241405, -0.7481766 ],\n",
              "      dtype=float32)"
            ]
          },
          "metadata": {
            "tags": []
          },
          "execution_count": 15
        }
      ]
    },
    {
      "cell_type": "markdown",
      "metadata": {
        "id": "mb2nNS2pd0jc",
        "colab_type": "text"
      },
      "source": [
        ""
      ]
    },
    {
      "cell_type": "code",
      "metadata": {
        "id": "udLeBDkk1pF4",
        "colab_type": "code",
        "colab": {
          "base_uri": "https://localhost:8080/",
          "height": 250
        },
        "outputId": "e9000c5a-d9c0-4818-8115-ff113a2752d2"
      },
      "source": [
        "word2vec.wv.most_similar('인공')"
      ],
      "execution_count": 16,
      "outputs": [
        {
          "output_type": "stream",
          "text": [
            "/usr/local/lib/python3.6/dist-packages/gensim/matutils.py:737: FutureWarning: Conversion of the second argument of issubdtype from `int` to `np.signedinteger` is deprecated. In future, it will be treated as `np.int64 == np.dtype(int).type`.\n",
            "  if np.issubdtype(vec.dtype, np.int):\n"
          ],
          "name": "stderr"
        },
        {
          "output_type": "execute_result",
          "data": {
            "text/plain": [
              "[('지능', 0.9386204481124878),\n",
              " ('학습', 0.8837945461273193),\n",
              " ('의료', 0.8471291065216064),\n",
              " ('유전자', 0.8240065574645996),\n",
              " ('높아', 0.8093416094779968),\n",
              " ('결합', 0.8036054372787476),\n",
              " ('핀란드', 0.8003004789352417),\n",
              " ('러닝', 0.7984906435012817),\n",
              " ('접목', 0.7920808792114258),\n",
              " ('개인', 0.7889235615730286)]"
            ]
          },
          "metadata": {
            "tags": []
          },
          "execution_count": 16
        }
      ]
    },
    {
      "cell_type": "code",
      "metadata": {
        "id": "4BsRGhJL2S0v",
        "colab_type": "code",
        "colab": {}
      },
      "source": [
        ""
      ],
      "execution_count": 0,
      "outputs": []
    }
  ]
}